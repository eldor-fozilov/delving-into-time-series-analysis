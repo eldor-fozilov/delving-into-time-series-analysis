{
  "cells": [
    {
      "cell_type": "markdown",
      "id": "8E-RxfCR1__F",
      "metadata": {
        "id": "8E-RxfCR1__F",
        "pycharm": {
          "name": "#%% md\n"
        }
      },
      "source": [
        "<h1><center>IE 313 Time Series Analysis: Code Implementation Assignment 1</center></h1>"
      ]
    },
    {
      "cell_type": "markdown",
      "id": "oy9_6giP1__I",
      "metadata": {
        "id": "oy9_6giP1__I",
        "pycharm": {
          "name": "#%% md\n"
        },
        "toc": true
      },
      "source": [
        "<h1>Table of Contents<span class=\"tocSkip\"></span></h1>\n",
        "<div class=\"toc\"><ul class=\"toc-item\"><li><span><a href=\"#Read-Data\" data-toc-modified-id=\"Read-Data-1\"><span class=\"toc-item-num\">1&nbsp;&nbsp;</span>Read Data</a></span></li><li><span><a href=\"#Your-Data-Overview\" data-toc-modified-id=\"Your-Data-Overview-2\"><span class=\"toc-item-num\">2&nbsp;&nbsp;</span>Your Data Overview</a></span><ul class=\"toc-item\"><li><span><a href=\"#Plot-Scatter\" data-toc-modified-id=\"Plot-Scatter-2.1\"><span class=\"toc-item-num\">2.1&nbsp;&nbsp;</span>Plot Scatter</a></span></li><li><span><a href=\"#Resample-Data\" data-toc-modified-id=\"Resample-Data-2.2\"><span class=\"toc-item-num\">2.2&nbsp;&nbsp;</span>Resample Data</a></span></li></ul></li><li><span><a href=\"#Define-Variables\" data-toc-modified-id=\"Define-Variables-3\"><span class=\"toc-item-num\">3&nbsp;&nbsp;</span>Define Variables</a></span></li><li><span><a href=\"#Linear-Regression\" data-toc-modified-id=\"Linear-Regression-4\"><span class=\"toc-item-num\">4&nbsp;&nbsp;</span>Linear Regression</a></span><ul class=\"toc-item\"><li><span><a href=\"#Fitting-Linear-Regression\" data-toc-modified-id=\"Fitting-Linear-Regression-4.1\"><span class=\"toc-item-num\">4.1&nbsp;&nbsp;</span>Fitting Linear Regression</a></span></li><li><span><a href=\"#Plot-Linear-Regression-Results\" data-toc-modified-id=\"Plot-Linear-Regression-Results-4.2\"><span class=\"toc-item-num\">4.2&nbsp;&nbsp;</span>Plot Linear Regression Results</a></span></li><li><span><a href=\"#Linear-Regression-MSE\" data-toc-modified-id=\"Linear-Regression-MSE-4.3\"><span class=\"toc-item-num\">4.3&nbsp;&nbsp;</span>Linear Regression MSE</a></span></li></ul></li><li><span><a href=\"#Residual-Analysis\" data-toc-modified-id=\"Residual-Analysis-5\"><span class=\"toc-item-num\">5&nbsp;&nbsp;</span>Residual Analysis</a></span><ul class=\"toc-item\"><li><span><a href=\"#Residual-and-Standardized-Residual\" data-toc-modified-id=\"Residual-and-Standardized-Residual-5.1\"><span class=\"toc-item-num\">5.1&nbsp;&nbsp;</span>Residual and Standardized Residual</a></span></li><li><span><a href=\"#Plot-Standardized-Residuals\" data-toc-modified-id=\"Plot-Standardized-Residuals-5.2\"><span class=\"toc-item-num\">5.2&nbsp;&nbsp;</span>Plot Standardized Residuals</a></span></li><li><span><a href=\"#Histogram-of-Standardized-Residuals\" data-toc-modified-id=\"Histogram-of-Standardized-Residuals-5.3\"><span class=\"toc-item-num\">5.3&nbsp;&nbsp;</span>Histogram of Standardized Residuals</a></span></li><li><span><a href=\"#Q-Q-Plot\" data-toc-modified-id=\"Q-Q-Plot-5.4\"><span class=\"toc-item-num\">5.4&nbsp;&nbsp;</span>Q-Q Plot</a></span></li><li><span><a href=\"#Autocorrelation-function-(Correlogram)\" data-toc-modified-id=\"Autocorrelation-function-(Correlogram)-5.5\"><span class=\"toc-item-num\">5.5&nbsp;&nbsp;</span>Autocorrelation function (Correlogram)</a></span></li></ul></li><li><span><a href=\"#Quadratic-Trends-Regression\" data-toc-modified-id=\"Quadratic-Trends-Regression-6\"><span class=\"toc-item-num\">6&nbsp;&nbsp;</span>Quadratic Trends Regression</a></span><ul class=\"toc-item\"><li><span><a href=\"#Fitting-Quadratic-Trends-Regression\" data-toc-modified-id=\"Fitting-Quadratic-Trends-Regression-6.1\"><span class=\"toc-item-num\">6.1&nbsp;&nbsp;</span>Fitting Quadratic Trends Regression</a></span></li><li><span><a href=\"#Quadratic-Trends-Regression-MSE\" data-toc-modified-id=\"Quadratic-Trends-Regression-MSE-6.2\"><span class=\"toc-item-num\">6.2&nbsp;&nbsp;</span>Quadratic Trends Regression MSE</a></span></li></ul></li><li><span><a href=\"#Other-Curve-Fitting\" data-toc-modified-id=\"Other-Curve-Fitting-7\"><span class=\"toc-item-num\">7&nbsp;&nbsp;</span>Other Curve Fitting</a></span><ul class=\"toc-item\"><li><span><a href=\"#Fitting-Curve-Regression\" data-toc-modified-id=\"Fitting-Curve-Regression-7.1\"><span class=\"toc-item-num\">7.1&nbsp;&nbsp;</span>Fitting Curve Regression</a></span></li><li><span><a href=\"#Quadratic-Trends-Regression-MSE\" data-toc-modified-id=\"Quadratic-Trends-Regression-MSE-7.2\"><span class=\"toc-item-num\">7.2&nbsp;&nbsp;</span>Quadratic Trends Regression MSE</a></span></li></ul></li></ul></div>"
      ]
    },
    {
      "cell_type": "markdown",
      "id": "UpOL7dUc1__J",
      "metadata": {
        "id": "UpOL7dUc1__J",
        "pycharm": {
          "name": "#%% md\n"
        }
      },
      "source": [
        "Install the required packages using pip\n",
        "* Install using pip : `pandas`, `sklearn`, `matplotlib`, `statsmodels`\n",
        "* This code was developed in Python 3.8 and any other versions are allowed."
      ]
    },
    {
      "cell_type": "code",
      "execution_count": null,
      "id": "JoGKDW8X1__J",
      "metadata": {
        "id": "JoGKDW8X1__J",
        "pycharm": {
          "name": "#%%\n"
        }
      },
      "outputs": [],
      "source": [
        "import numpy as np  #for numeric computations like log, exp, sqrt\n",
        "import pandas as pd #for reading & storing data, pre=processing\n",
        "from sklearn.preprocessing import PolynomialFeatures\n",
        "import matplotlib.pyplot as plt #for visualization\n",
        "import statsmodels.api as sm\n",
        "from scipy import stats"
      ]
    },
    {
      "cell_type": "markdown",
      "id": "XmQxleTK1__K",
      "metadata": {
        "id": "XmQxleTK1__K",
        "pycharm": {
          "name": "#%% md\n"
        }
      },
      "source": [
        "## Read Data"
      ]
    },
    {
      "cell_type": "markdown",
      "id": "rTSKxJZy1__L",
      "metadata": {
        "id": "rTSKxJZy1__L",
        "pycharm": {
          "name": "#%% md\n"
        }
      },
      "source": [
        "Download your data file in Excel (.csv) as shown in the figure above.\n",
        "\n",
        "* You can use time-series data, which have 'Date' or 'Timestamp' columns.\n",
        "* Also, you can use sequential data which do not have 'Date' columns."
      ]
    },
    {
      "cell_type": "markdown",
      "id": "ma9P9Rjm1__M",
      "metadata": {
        "id": "ma9P9Rjm1__M",
        "pycharm": {
          "name": "#%% md\n"
        }
      },
      "source": [
        "Read '.csv' file in the form of DataFrame (pandas.DataFrame) through 'read_csv' method in Pandas. \n",
        "\n",
        "* Else, read using 'read_excel' method. \n",
        "* In this example, daily closing price of APPLE Inc. was used.\n",
        "* If there is 'Date' column, indexing is possible by specifying 'index_col' as below."
      ]
    },
    {
      "cell_type": "code",
      "execution_count": null,
      "id": "DRQT8Iws1__M",
      "metadata": {
        "id": "DRQT8Iws1__M",
        "pycharm": {
          "name": "#%%\n"
        }
      },
      "outputs": [],
      "source": [
        "# use your own data\n",
        "data = pd.read_csv('spx.csv', index_col='date')"
      ]
    },
    {
      "cell_type": "code",
      "execution_count": null,
      "id": "ab2a5a00-22cf-46ee-b6c5-045d773909e9",
      "metadata": {
        "colab": {
          "base_uri": "https://localhost:8080/",
          "height": 237
        },
        "id": "ab2a5a00-22cf-46ee-b6c5-045d773909e9",
        "outputId": "24d76cff-c499-4f58-a954-f3ee6493e340"
      },
      "outputs": [
        {
          "output_type": "execute_result",
          "data": {
            "text/plain": [
              "            close\n",
              "date             \n",
              "02-Jan-86  209.59\n",
              "03-Jan-86  210.88\n",
              "06-Jan-86  210.65\n",
              "07-Jan-86  213.80\n",
              "08-Jan-86  207.97"
            ],
            "text/html": [
              "\n",
              "  <div id=\"df-9e00b219-5555-4b5e-b647-fd80232ba347\">\n",
              "    <div class=\"colab-df-container\">\n",
              "      <div>\n",
              "<style scoped>\n",
              "    .dataframe tbody tr th:only-of-type {\n",
              "        vertical-align: middle;\n",
              "    }\n",
              "\n",
              "    .dataframe tbody tr th {\n",
              "        vertical-align: top;\n",
              "    }\n",
              "\n",
              "    .dataframe thead th {\n",
              "        text-align: right;\n",
              "    }\n",
              "</style>\n",
              "<table border=\"1\" class=\"dataframe\">\n",
              "  <thead>\n",
              "    <tr style=\"text-align: right;\">\n",
              "      <th></th>\n",
              "      <th>close</th>\n",
              "    </tr>\n",
              "    <tr>\n",
              "      <th>date</th>\n",
              "      <th></th>\n",
              "    </tr>\n",
              "  </thead>\n",
              "  <tbody>\n",
              "    <tr>\n",
              "      <th>02-Jan-86</th>\n",
              "      <td>209.59</td>\n",
              "    </tr>\n",
              "    <tr>\n",
              "      <th>03-Jan-86</th>\n",
              "      <td>210.88</td>\n",
              "    </tr>\n",
              "    <tr>\n",
              "      <th>06-Jan-86</th>\n",
              "      <td>210.65</td>\n",
              "    </tr>\n",
              "    <tr>\n",
              "      <th>07-Jan-86</th>\n",
              "      <td>213.80</td>\n",
              "    </tr>\n",
              "    <tr>\n",
              "      <th>08-Jan-86</th>\n",
              "      <td>207.97</td>\n",
              "    </tr>\n",
              "  </tbody>\n",
              "</table>\n",
              "</div>\n",
              "      <button class=\"colab-df-convert\" onclick=\"convertToInteractive('df-9e00b219-5555-4b5e-b647-fd80232ba347')\"\n",
              "              title=\"Convert this dataframe to an interactive table.\"\n",
              "              style=\"display:none;\">\n",
              "        \n",
              "  <svg xmlns=\"http://www.w3.org/2000/svg\" height=\"24px\"viewBox=\"0 0 24 24\"\n",
              "       width=\"24px\">\n",
              "    <path d=\"M0 0h24v24H0V0z\" fill=\"none\"/>\n",
              "    <path d=\"M18.56 5.44l.94 2.06.94-2.06 2.06-.94-2.06-.94-.94-2.06-.94 2.06-2.06.94zm-11 1L8.5 8.5l.94-2.06 2.06-.94-2.06-.94L8.5 2.5l-.94 2.06-2.06.94zm10 10l.94 2.06.94-2.06 2.06-.94-2.06-.94-.94-2.06-.94 2.06-2.06.94z\"/><path d=\"M17.41 7.96l-1.37-1.37c-.4-.4-.92-.59-1.43-.59-.52 0-1.04.2-1.43.59L10.3 9.45l-7.72 7.72c-.78.78-.78 2.05 0 2.83L4 21.41c.39.39.9.59 1.41.59.51 0 1.02-.2 1.41-.59l7.78-7.78 2.81-2.81c.8-.78.8-2.07 0-2.86zM5.41 20L4 18.59l7.72-7.72 1.47 1.35L5.41 20z\"/>\n",
              "  </svg>\n",
              "      </button>\n",
              "      \n",
              "  <style>\n",
              "    .colab-df-container {\n",
              "      display:flex;\n",
              "      flex-wrap:wrap;\n",
              "      gap: 12px;\n",
              "    }\n",
              "\n",
              "    .colab-df-convert {\n",
              "      background-color: #E8F0FE;\n",
              "      border: none;\n",
              "      border-radius: 50%;\n",
              "      cursor: pointer;\n",
              "      display: none;\n",
              "      fill: #1967D2;\n",
              "      height: 32px;\n",
              "      padding: 0 0 0 0;\n",
              "      width: 32px;\n",
              "    }\n",
              "\n",
              "    .colab-df-convert:hover {\n",
              "      background-color: #E2EBFA;\n",
              "      box-shadow: 0px 1px 2px rgba(60, 64, 67, 0.3), 0px 1px 3px 1px rgba(60, 64, 67, 0.15);\n",
              "      fill: #174EA6;\n",
              "    }\n",
              "\n",
              "    [theme=dark] .colab-df-convert {\n",
              "      background-color: #3B4455;\n",
              "      fill: #D2E3FC;\n",
              "    }\n",
              "\n",
              "    [theme=dark] .colab-df-convert:hover {\n",
              "      background-color: #434B5C;\n",
              "      box-shadow: 0px 1px 3px 1px rgba(0, 0, 0, 0.15);\n",
              "      filter: drop-shadow(0px 1px 2px rgba(0, 0, 0, 0.3));\n",
              "      fill: #FFFFFF;\n",
              "    }\n",
              "  </style>\n",
              "\n",
              "      <script>\n",
              "        const buttonEl =\n",
              "          document.querySelector('#df-9e00b219-5555-4b5e-b647-fd80232ba347 button.colab-df-convert');\n",
              "        buttonEl.style.display =\n",
              "          google.colab.kernel.accessAllowed ? 'block' : 'none';\n",
              "\n",
              "        async function convertToInteractive(key) {\n",
              "          const element = document.querySelector('#df-9e00b219-5555-4b5e-b647-fd80232ba347');\n",
              "          const dataTable =\n",
              "            await google.colab.kernel.invokeFunction('convertToInteractive',\n",
              "                                                     [key], {});\n",
              "          if (!dataTable) return;\n",
              "\n",
              "          const docLinkHtml = 'Like what you see? Visit the ' +\n",
              "            '<a target=\"_blank\" href=https://colab.research.google.com/notebooks/data_table.ipynb>data table notebook</a>'\n",
              "            + ' to learn more about interactive tables.';\n",
              "          element.innerHTML = '';\n",
              "          dataTable['output_type'] = 'display_data';\n",
              "          await google.colab.output.renderOutput(dataTable, element);\n",
              "          const docLink = document.createElement('div');\n",
              "          docLink.innerHTML = docLinkHtml;\n",
              "          element.appendChild(docLink);\n",
              "        }\n",
              "      </script>\n",
              "    </div>\n",
              "  </div>\n",
              "  "
            ]
          },
          "metadata": {},
          "execution_count": 74
        }
      ],
      "source": [
        "data.head()"
      ]
    },
    {
      "cell_type": "markdown",
      "id": "gF-Cc1Nx1__M",
      "metadata": {
        "id": "gF-Cc1Nx1__M",
        "pycharm": {
          "name": "#%% md\n"
        }
      },
      "source": [
        "\n",
        "It is convenient to change Date dtype from 'object' to 'datetime'."
      ]
    },
    {
      "cell_type": "code",
      "execution_count": null,
      "id": "D1g-nTtw1__N",
      "metadata": {
        "id": "D1g-nTtw1__N",
        "outputId": "f1dcd6d9-d5a8-4b28-866e-9f4f99d000cc",
        "pycharm": {
          "name": "#%%\n"
        },
        "colab": {
          "base_uri": "https://localhost:8080/"
        }
      },
      "outputs": [
        {
          "output_type": "execute_result",
          "data": {
            "text/plain": [
              "Index(['02-Jan-86', '03-Jan-86', '06-Jan-86', '07-Jan-86', '08-Jan-86',\n",
              "       '09-Jan-86', '10-Jan-86', '13-Jan-86', '14-Jan-86', '15-Jan-86',\n",
              "       ...\n",
              "       '18-Jun-18', '19-Jun-18', '20-Jun-18', '21-Jun-18', '22-Jun-18',\n",
              "       '25-Jun-18', '26-Jun-18', '27-Jun-18', '28-Jun-18', '29-Jun-18'],\n",
              "      dtype='object', name='date', length=8192)"
            ]
          },
          "metadata": {},
          "execution_count": 75
        }
      ],
      "source": [
        "# check index type\n",
        "data.index"
      ]
    },
    {
      "cell_type": "markdown",
      "id": "i8RFT-LI1__N",
      "metadata": {
        "id": "i8RFT-LI1__N",
        "pycharm": {
          "name": "#%% md\n"
        }
      },
      "source": [
        "\n",
        "Convert index type using 'pd.to_datetime' method."
      ]
    },
    {
      "cell_type": "code",
      "execution_count": null,
      "id": "LRowG6o01__N",
      "metadata": {
        "id": "LRowG6o01__N",
        "pycharm": {
          "name": "#%%\n"
        }
      },
      "outputs": [],
      "source": [
        "# convert index type to datetime\n",
        "data.index = pd.to_datetime(data.index)"
      ]
    },
    {
      "cell_type": "code",
      "execution_count": null,
      "id": "x72SSngQ1__O",
      "metadata": {
        "id": "x72SSngQ1__O",
        "outputId": "92d19ff3-e430-4476-df46-3e1be8d6cc43",
        "pycharm": {
          "name": "#%%\n"
        },
        "colab": {
          "base_uri": "https://localhost:8080/"
        }
      },
      "outputs": [
        {
          "output_type": "execute_result",
          "data": {
            "text/plain": [
              "DatetimeIndex(['1986-01-02', '1986-01-03', '1986-01-06', '1986-01-07',\n",
              "               '1986-01-08', '1986-01-09', '1986-01-10', '1986-01-13',\n",
              "               '1986-01-14', '1986-01-15',\n",
              "               ...\n",
              "               '2018-06-18', '2018-06-19', '2018-06-20', '2018-06-21',\n",
              "               '2018-06-22', '2018-06-25', '2018-06-26', '2018-06-27',\n",
              "               '2018-06-28', '2018-06-29'],\n",
              "              dtype='datetime64[ns]', name='date', length=8192, freq=None)"
            ]
          },
          "metadata": {},
          "execution_count": 77
        }
      ],
      "source": [
        "# Check that dtype has changed to datetime\n",
        "data.index"
      ]
    },
    {
      "cell_type": "markdown",
      "id": "TNaEwdDR1__O",
      "metadata": {
        "id": "TNaEwdDR1__O",
        "pycharm": {
          "name": "#%% md\n"
        }
      },
      "source": [
        "## Data Overview"
      ]
    },
    {
      "cell_type": "markdown",
      "id": "QbFoIPL-1__O",
      "metadata": {
        "id": "QbFoIPL-1__O",
        "pycharm": {
          "name": "#%% md\n"
        }
      },
      "source": [
        "\n",
        "Visualize data using 'plot()' function."
      ]
    },
    {
      "cell_type": "code",
      "execution_count": null,
      "id": "U8cAS_ub1__O",
      "metadata": {
        "id": "U8cAS_ub1__O",
        "outputId": "b81ae5f2-9112-45cd-8b9a-44d84f3881bb",
        "pycharm": {
          "name": "#%%\n"
        },
        "colab": {
          "base_uri": "https://localhost:8080/",
          "height": 444
        }
      },
      "outputs": [
        {
          "output_type": "display_data",
          "data": {
            "text/plain": [
              "<Figure size 1080x504 with 1 Axes>"
            ],
            "image/png": "[encoded data removed]"
          },
          "metadata": {
            "needs_background": "light"
          }
        }
      ],
      "source": [
        "plt.figure(figsize = (15,7))\n",
        "plt.plot(data)\n",
        "plt.title('S&P 500 Prices')\n",
        "plt.show();"
      ]
    },
    {
      "cell_type": "markdown",
      "id": "KVCEZK2I1__P",
      "metadata": {
        "id": "KVCEZK2I1__P",
        "pycharm": {
          "name": "#%% md\n"
        }
      },
      "source": [
        "### Plot Scatter"
      ]
    },
    {
      "cell_type": "markdown",
      "id": "V_mLXHS71__P",
      "metadata": {
        "id": "V_mLXHS71__P",
        "pycharm": {
          "name": "#%% md\n"
        }
      },
      "source": [
        "The figure below is a scatter plot in the textbook, and draw a graph to examine the relationship with the previous points.\n",
        "\n",
        "![](https://trello.com/1/cards/62469d0f1dfc968cf7510f2b/attachments/63183fcc8ab03000373d8d61/previews/63183fcc8ab03000373d8d69/download/image.png)"
      ]
    },
    {
      "cell_type": "markdown",
      "id": "cEX_VQLW1__P",
      "metadata": {
        "id": "cEX_VQLW1__P",
        "pycharm": {
          "name": "#%% md\n"
        }
      },
      "source": [
        "\n",
        "Shift your data by one time step interval through 'shift(1)' and draw a scatter plot."
      ]
    },
    {
      "cell_type": "code",
      "execution_count": null,
      "id": "a8mYwoO01__P",
      "metadata": {
        "id": "a8mYwoO01__P",
        "outputId": "68a78684-7ee6-4e39-d9bf-d89054ccc41f",
        "pycharm": {
          "name": "#%%\n"
        },
        "colab": {
          "base_uri": "https://localhost:8080/",
          "height": 446
        }
      },
      "outputs": [
        {
          "output_type": "display_data",
          "data": {
            "text/plain": [
              "<Figure size 1080x504 with 1 Axes>"
            ],
            "image/png": "[encoded data removed]"
          },
          "metadata": {
            "needs_background": "light"
          }
        }
      ],
      "source": [
        "plt.figure(figsize = (15,7))\n",
        "plt.scatter(data.shift(1)[1:], data[1:])\n",
        "plt.xlabel('Previous Day Closing Price')\n",
        "plt.ylabel('Closing Price');"
      ]
    },
    {
      "cell_type": "markdown",
      "id": "9Qpk_jz61__Q",
      "metadata": {
        "id": "9Qpk_jz61__Q",
        "pycharm": {
          "name": "#%% md\n"
        }
      },
      "source": [
        "### Resample Data"
      ]
    },
    {
      "cell_type": "markdown",
      "id": "EL00PC3P1__Q",
      "metadata": {
        "id": "EL00PC3P1__Q",
        "pycharm": {
          "name": "#%% md\n"
        }
      },
      "source": [
        "Follow this part if you need to resample your data."
      ]
    },
    {
      "cell_type": "markdown",
      "id": "NGrqseh31__Q",
      "metadata": {
        "id": "NGrqseh31__Q",
        "pycharm": {
          "name": "#%% md\n"
        }
      },
      "source": [
        "Set a different period using the `resample` (In this example,the period is changed from daily to monthly)."
      ]
    },
    {
      "cell_type": "code",
      "execution_count": null,
      "id": "NPIC05w01__Q",
      "metadata": {
        "id": "NPIC05w01__Q",
        "pycharm": {
          "name": "#%%\n"
        }
      },
      "outputs": [],
      "source": [
        "# monthly_data = data.resample('M').first() # resample with closing price on the first trading day of the month \n",
        "# monthly_data = data.resample('M').mean() # resample with monthly average closing price\n",
        "monthly_data = data.resample('M').last() # resample with closing price on the last trading day of the month "
      ]
    },
    {
      "cell_type": "code",
      "execution_count": null,
      "id": "IMUe3k-_1__Q",
      "metadata": {
        "id": "IMUe3k-_1__Q",
        "outputId": "dc90a48d-f0e5-4061-f6d0-7f5e00c52592",
        "pycharm": {
          "name": "#%%\n"
        },
        "colab": {
          "base_uri": "https://localhost:8080/",
          "height": 237
        }
      },
      "outputs": [
        {
          "output_type": "execute_result",
          "data": {
            "text/plain": [
              "             close\n",
              "date              \n",
              "1986-01-31  211.78\n",
              "1986-02-28  226.92\n",
              "1986-03-31  238.90\n",
              "1986-04-30  235.52\n",
              "1986-05-31  247.35"
            ],
            "text/html": [
              "\n",
              "  <div id=\"df-f87e2ac3-676a-4ed8-a59a-c52bd85f442d\">\n",
              "    <div class=\"colab-df-container\">\n",
              "      <div>\n",
              "<style scoped>\n",
              "    .dataframe tbody tr th:only-of-type {\n",
              "        vertical-align: middle;\n",
              "    }\n",
              "\n",
              "    .dataframe tbody tr th {\n",
              "        vertical-align: top;\n",
              "    }\n",
              "\n",
              "    .dataframe thead th {\n",
              "        text-align: right;\n",
              "    }\n",
              "</style>\n",
              "<table border=\"1\" class=\"dataframe\">\n",
              "  <thead>\n",
              "    <tr style=\"text-align: right;\">\n",
              "      <th></th>\n",
              "      <th>close</th>\n",
              "    </tr>\n",
              "    <tr>\n",
              "      <th>date</th>\n",
              "      <th></th>\n",
              "    </tr>\n",
              "  </thead>\n",
              "  <tbody>\n",
              "    <tr>\n",
              "      <th>1986-01-31</th>\n",
              "      <td>211.78</td>\n",
              "    </tr>\n",
              "    <tr>\n",
              "      <th>1986-02-28</th>\n",
              "      <td>226.92</td>\n",
              "    </tr>\n",
              "    <tr>\n",
              "      <th>1986-03-31</th>\n",
              "      <td>238.90</td>\n",
              "    </tr>\n",
              "    <tr>\n",
              "      <th>1986-04-30</th>\n",
              "      <td>235.52</td>\n",
              "    </tr>\n",
              "    <tr>\n",
              "      <th>1986-05-31</th>\n",
              "      <td>247.35</td>\n",
              "    </tr>\n",
              "  </tbody>\n",
              "</table>\n",
              "</div>\n",
              "      <button class=\"colab-df-convert\" onclick=\"convertToInteractive('df-f87e2ac3-676a-4ed8-a59a-c52bd85f442d')\"\n",
              "              title=\"Convert this dataframe to an interactive table.\"\n",
              "              style=\"display:none;\">\n",
              "        \n",
              "  <svg xmlns=\"http://www.w3.org/2000/svg\" height=\"24px\"viewBox=\"0 0 24 24\"\n",
              "       width=\"24px\">\n",
              "    <path d=\"M0 0h24v24H0V0z\" fill=\"none\"/>\n",
              "    <path d=\"M18.56 5.44l.94 2.06.94-2.06 2.06-.94-2.06-.94-.94-2.06-.94 2.06-2.06.94zm-11 1L8.5 8.5l.94-2.06 2.06-.94-2.06-.94L8.5 2.5l-.94 2.06-2.06.94zm10 10l.94 2.06.94-2.06 2.06-.94-2.06-.94-.94-2.06-.94 2.06-2.06.94z\"/><path d=\"M17.41 7.96l-1.37-1.37c-.4-.4-.92-.59-1.43-.59-.52 0-1.04.2-1.43.59L10.3 9.45l-7.72 7.72c-.78.78-.78 2.05 0 2.83L4 21.41c.39.39.9.59 1.41.59.51 0 1.02-.2 1.41-.59l7.78-7.78 2.81-2.81c.8-.78.8-2.07 0-2.86zM5.41 20L4 18.59l7.72-7.72 1.47 1.35L5.41 20z\"/>\n",
              "  </svg>\n",
              "      </button>\n",
              "      \n",
              "  <style>\n",
              "    .colab-df-container {\n",
              "      display:flex;\n",
              "      flex-wrap:wrap;\n",
              "      gap: 12px;\n",
              "    }\n",
              "\n",
              "    .colab-df-convert {\n",
              "      background-color: #E8F0FE;\n",
              "      border: none;\n",
              "      border-radius: 50%;\n",
              "      cursor: pointer;\n",
              "      display: none;\n",
              "      fill: #1967D2;\n",
              "      height: 32px;\n",
              "      padding: 0 0 0 0;\n",
              "      width: 32px;\n",
              "    }\n",
              "\n",
              "    .colab-df-convert:hover {\n",
              "      background-color: #E2EBFA;\n",
              "      box-shadow: 0px 1px 2px rgba(60, 64, 67, 0.3), 0px 1px 3px 1px rgba(60, 64, 67, 0.15);\n",
              "      fill: #174EA6;\n",
              "    }\n",
              "\n",
              "    [theme=dark] .colab-df-convert {\n",
              "      background-color: #3B4455;\n",
              "      fill: #D2E3FC;\n",
              "    }\n",
              "\n",
              "    [theme=dark] .colab-df-convert:hover {\n",
              "      background-color: #434B5C;\n",
              "      box-shadow: 0px 1px 3px 1px rgba(0, 0, 0, 0.15);\n",
              "      filter: drop-shadow(0px 1px 2px rgba(0, 0, 0, 0.3));\n",
              "      fill: #FFFFFF;\n",
              "    }\n",
              "  </style>\n",
              "\n",
              "      <script>\n",
              "        const buttonEl =\n",
              "          document.querySelector('#df-f87e2ac3-676a-4ed8-a59a-c52bd85f442d button.colab-df-convert');\n",
              "        buttonEl.style.display =\n",
              "          google.colab.kernel.accessAllowed ? 'block' : 'none';\n",
              "\n",
              "        async function convertToInteractive(key) {\n",
              "          const element = document.querySelector('#df-f87e2ac3-676a-4ed8-a59a-c52bd85f442d');\n",
              "          const dataTable =\n",
              "            await google.colab.kernel.invokeFunction('convertToInteractive',\n",
              "                                                     [key], {});\n",
              "          if (!dataTable) return;\n",
              "\n",
              "          const docLinkHtml = 'Like what you see? Visit the ' +\n",
              "            '<a target=\"_blank\" href=https://colab.research.google.com/notebooks/data_table.ipynb>data table notebook</a>'\n",
              "            + ' to learn more about interactive tables.';\n",
              "          element.innerHTML = '';\n",
              "          dataTable['output_type'] = 'display_data';\n",
              "          await google.colab.output.renderOutput(dataTable, element);\n",
              "          const docLink = document.createElement('div');\n",
              "          docLink.innerHTML = docLinkHtml;\n",
              "          element.appendChild(docLink);\n",
              "        }\n",
              "      </script>\n",
              "    </div>\n",
              "  </div>\n",
              "  "
            ]
          },
          "metadata": {},
          "execution_count": 81
        }
      ],
      "source": [
        "monthly_data.head()"
      ]
    },
    {
      "cell_type": "code",
      "execution_count": null,
      "id": "Lt_Fu7Ze1__Q",
      "metadata": {
        "id": "Lt_Fu7Ze1__Q",
        "outputId": "3749d78f-8af0-4f30-ee0a-50fe6ac71356",
        "pycharm": {
          "name": "#%%\n"
        },
        "colab": {
          "base_uri": "https://localhost:8080/",
          "height": 442
        }
      },
      "outputs": [
        {
          "output_type": "display_data",
          "data": {
            "text/plain": [
              "<Figure size 1080x504 with 1 Axes>"
            ],
            "image/png": "[encoded data removed]"
          },
          "metadata": {
            "needs_background": "light"
          }
        }
      ],
      "source": [
        "# visualize resampled data\n",
        "monthly_data.plot(figsize = (15,7));"
      ]
    },
    {
      "cell_type": "code",
      "execution_count": null,
      "id": "rYLgzSpf1__Q",
      "metadata": {
        "id": "rYLgzSpf1__Q",
        "outputId": "08e23a55-fef8-40ab-bef4-9be97492028f",
        "pycharm": {
          "name": "#%%\n"
        },
        "colab": {
          "base_uri": "https://localhost:8080/",
          "height": 442
        }
      },
      "outputs": [
        {
          "output_type": "display_data",
          "data": {
            "text/plain": [
              "<Figure size 1080x504 with 1 Axes>"
            ],
            "image/png": "[encoded data removed]"
          },
          "metadata": {
            "needs_background": "light"
          }
        }
      ],
      "source": [
        "# Relationship with the previous month\n",
        "plt.figure(figsize = (15,7))\n",
        "plt.scatter(monthly_data.shift(1)[1:], monthly_data[1:])\n",
        "plt.xlabel('Previous Month Closing Price')\n",
        "plt.ylabel('Closing Price');"
      ]
    },
    {
      "cell_type": "markdown",
      "id": "oPJDZWnN1__Q",
      "metadata": {
        "id": "oPJDZWnN1__Q",
        "pycharm": {
          "name": "#%% md\n"
        }
      },
      "source": [
        "## Define Variables"
      ]
    },
    {
      "cell_type": "markdown",
      "id": "ZSPEvaXJ1__R",
      "metadata": {
        "id": "ZSPEvaXJ1__R",
        "pycharm": {
          "name": "#%% md\n"
        }
      },
      "source": [
        "Set x so that can represent time as the length of data.\n"
      ]
    },
    {
      "cell_type": "code",
      "execution_count": null,
      "id": "Xu2qe-zI1__R",
      "metadata": {
        "id": "Xu2qe-zI1__R",
        "pycharm": {
          "name": "#%%\n"
        }
      },
      "outputs": [],
      "source": [
        "x = np.arange(len(data))"
      ]
    },
    {
      "cell_type": "markdown",
      "id": "DKTUwsyE1__R",
      "metadata": {
        "id": "DKTUwsyE1__R",
        "pycharm": {
          "name": "#%% md\n"
        }
      },
      "source": [
        "Set y as the target of your analysis."
      ]
    },
    {
      "cell_type": "code",
      "execution_count": null,
      "id": "LJNv1z1j1__R",
      "metadata": {
        "id": "LJNv1z1j1__R",
        "pycharm": {
          "name": "#%%\n"
        }
      },
      "outputs": [],
      "source": [
        "# y = data.values.reshape(-1,1)\n",
        "y = data.values"
      ]
    },
    {
      "cell_type": "markdown",
      "id": "QVGYDywK1__R",
      "metadata": {
        "id": "QVGYDywK1__R",
        "pycharm": {
          "name": "#%% md\n"
        }
      },
      "source": [
        "## Linear Regression"
      ]
    },
    {
      "cell_type": "markdown",
      "id": "2zHtzuBS1__R",
      "metadata": {
        "id": "2zHtzuBS1__R",
        "pycharm": {
          "name": "#%% md\n"
        }
      },
      "source": [
        "How to run the Linear Regression"
      ]
    },
    {
      "cell_type": "markdown",
      "id": "FuVW278-1__R",
      "metadata": {
        "id": "FuVW278-1__R",
        "pycharm": {
          "name": "#%% md\n"
        }
      },
      "source": [
        "$$y=w_0+w_1 x =\\begin{bmatrix}\n",
        "w_0 & w_1\n",
        "\\end{bmatrix}   \\begin{bmatrix}\n",
        "1\\\\\n",
        "x\n",
        "\\end{bmatrix} = \\mathbf{w}\\mathbf{x}$$\n",
        "\n"
      ]
    },
    {
      "cell_type": "markdown",
      "id": "Vfh3BrN81__R",
      "metadata": {
        "id": "Vfh3BrN81__R",
        "pycharm": {
          "name": "#%% md\n"
        }
      },
      "source": [
        "\n",
        "Find the parameter $\\mathbf{w}$ based on linear regression model above."
      ]
    },
    {
      "cell_type": "markdown",
      "id": "zRvTm6dj1__R",
      "metadata": {
        "id": "zRvTm6dj1__R",
        "pycharm": {
          "name": "#%% md\n"
        }
      },
      "source": [
        "\n",
        "Calculate vector $\\mathbf{x}$.\n",
        "Use `add_constant` method in statsmodels."
      ]
    },
    {
      "cell_type": "code",
      "execution_count": null,
      "id": "I8qt6ELF1__R",
      "metadata": {
        "id": "I8qt6ELF1__R",
        "outputId": "d4a51d5b-bd55-4038-c21b-33d612fa5875",
        "pycharm": {
          "name": "#%%\n"
        },
        "colab": {
          "base_uri": "https://localhost:8080/"
        }
      },
      "outputs": [
        {
          "output_type": "execute_result",
          "data": {
            "text/plain": [
              "array([[1.000e+00, 0.000e+00],\n",
              "       [1.000e+00, 1.000e+00],\n",
              "       [1.000e+00, 2.000e+00],\n",
              "       ...,\n",
              "       [1.000e+00, 8.189e+03],\n",
              "       [1.000e+00, 8.190e+03],\n",
              "       [1.000e+00, 8.191e+03]])"
            ]
          },
          "metadata": {},
          "execution_count": 86
        }
      ],
      "source": [
        "X = sm.add_constant(x)\n",
        "X"
      ]
    },
    {
      "cell_type": "markdown",
      "id": "hnE3ieTy1__R",
      "metadata": {
        "id": "hnE3ieTy1__R",
        "pycharm": {
          "name": "#%% md\n"
        }
      },
      "source": [
        "\n",
        "\n",
        "Now, $y$ and $\\mathbf{x}$ are ready. Find $\\mathbf{w}$ to minimize the residual."
      ]
    },
    {
      "cell_type": "markdown",
      "id": "pM_iCZm-1__R",
      "metadata": {
        "id": "pM_iCZm-1__R",
        "pycharm": {
          "name": "#%% md\n"
        }
      },
      "source": [
        "\n",
        "\n",
        "Use 'OLS.fit()' in statsmodels to fit linear model.\n",
        "Use `summary()` method to analyze the result of model(p-value, R-squared, etc).\n",
        "\n",
        "\n",
        "\n",
        "*   Fitting means to optimize $\\mathbf{w}$.\n",
        "*   Ordinary Least Square (OLS) can be utilized to minimize Mean Squared Error (MSE).\n",
        "\n"
      ]
    },
    {
      "cell_type": "markdown",
      "id": "bTbeLlzO1__S",
      "metadata": {
        "id": "bTbeLlzO1__S",
        "pycharm": {
          "name": "#%% md\n"
        }
      },
      "source": [
        "### Fitting Linear Regression"
      ]
    },
    {
      "cell_type": "code",
      "execution_count": null,
      "id": "lH_LMOF51__S",
      "metadata": {
        "id": "lH_LMOF51__S",
        "outputId": "8bb82386-2ec1-4e15-b504-26f7a6cc5bbf",
        "pycharm": {
          "name": "#%%\n"
        },
        "colab": {
          "base_uri": "https://localhost:8080/"
        }
      },
      "outputs": [
        {
          "output_type": "stream",
          "name": "stdout",
          "text": [
            "                            OLS Regression Results                            \n",
            "==============================================================================\n",
            "Dep. Variable:                      y   R-squared:                       0.832\n",
            "Model:                            OLS   Adj. R-squared:                  0.832\n",
            "Method:                 Least Squares   F-statistic:                 4.058e+04\n",
            "Date:                Sun, 25 Sep 2022   Prob (F-statistic):               0.00\n",
            "Time:                        12:38:17   Log-Likelihood:                -56944.\n",
            "No. Observations:                8192   AIC:                         1.139e+05\n",
            "Df Residuals:                    8190   BIC:                         1.139e+05\n",
            "Df Model:                           1                                         \n",
            "Covariance Type:            nonrobust                                         \n",
            "==============================================================================\n",
            "                 coef    std err          t      P>|t|      [0.025      0.975]\n",
            "------------------------------------------------------------------------------\n",
            "const         96.7005      5.584     17.317      0.000      85.754     107.647\n",
            "x1             0.2379      0.001    201.450      0.000       0.236       0.240\n",
            "==============================================================================\n",
            "Omnibus:                      116.750   Durbin-Watson:                   0.002\n",
            "Prob(Omnibus):                  0.000   Jarque-Bera (JB):              178.751\n",
            "Skew:                           0.148   Prob(JB):                     1.53e-39\n",
            "Kurtosis:                       3.660   Cond. No.                     9.46e+03\n",
            "==============================================================================\n",
            "\n",
            "Notes:\n",
            "[1] Standard Errors assume that the covariance matrix of the errors is correctly specified.\n",
            "[2] The condition number is large, 9.46e+03. This might indicate that there are\n",
            "strong multicollinearity or other numerical problems.\n"
          ]
        }
      ],
      "source": [
        "lin_reg = sm.OLS(y, X).fit()\n",
        "print(lin_reg.summary())"
      ]
    },
    {
      "cell_type": "markdown",
      "id": "fkXcx13M1__S",
      "metadata": {
        "id": "fkXcx13M1__S",
        "pycharm": {
          "name": "#%% md\n"
        }
      },
      "source": [
        "\n",
        "\n",
        "Calculate the parameter $\\mathbf{w}$ using `params` method."
      ]
    },
    {
      "cell_type": "code",
      "execution_count": null,
      "id": "eMGkSzav1__S",
      "metadata": {
        "id": "eMGkSzav1__S",
        "outputId": "20c5ce0c-9908-4d33-f87b-3789cc2eef1c",
        "pycharm": {
          "name": "#%%\n"
        },
        "colab": {
          "base_uri": "https://localhost:8080/"
        }
      },
      "outputs": [
        {
          "output_type": "execute_result",
          "data": {
            "text/plain": [
              "array([96.70051163,  0.23787008])"
            ]
          },
          "metadata": {},
          "execution_count": 88
        }
      ],
      "source": [
        "lin_reg.params # w_0, w_1"
      ]
    },
    {
      "cell_type": "code",
      "execution_count": null,
      "id": "J-ZcETOT1__S",
      "metadata": {
        "id": "J-ZcETOT1__S",
        "pycharm": {
          "name": "#%%\n"
        }
      },
      "outputs": [],
      "source": [
        "intercept=lin_reg.params[0]\n",
        "coef = lin_reg.params[1]"
      ]
    },
    {
      "cell_type": "code",
      "execution_count": null,
      "id": "CHNFv0lz1__S",
      "metadata": {
        "id": "CHNFv0lz1__S",
        "outputId": "9b8e0fee-0026-4b0d-b237-fbc54562cb63",
        "pycharm": {
          "name": "#%%\n"
        },
        "colab": {
          "base_uri": "https://localhost:8080/"
        }
      },
      "outputs": [
        {
          "output_type": "execute_result",
          "data": {
            "text/plain": [
              "96.70051163060612"
            ]
          },
          "metadata": {},
          "execution_count": 90
        }
      ],
      "source": [
        "intercept"
      ]
    },
    {
      "cell_type": "code",
      "execution_count": null,
      "id": "3PK_-Ccr1__S",
      "metadata": {
        "id": "3PK_-Ccr1__S",
        "outputId": "b6f34b0d-3d5b-4d17-9af4-af73950c7caf",
        "pycharm": {
          "name": "#%%\n"
        },
        "colab": {
          "base_uri": "https://localhost:8080/"
        }
      },
      "outputs": [
        {
          "output_type": "execute_result",
          "data": {
            "text/plain": [
              "0.2378700767325277"
            ]
          },
          "metadata": {},
          "execution_count": 91
        }
      ],
      "source": [
        "coef"
      ]
    },
    {
      "cell_type": "markdown",
      "id": "GKztnjj81__S",
      "metadata": {
        "id": "GKztnjj81__S",
        "pycharm": {
          "name": "#%% md\n"
        }
      },
      "source": [
        "Finally, $$y=96.701+0.2387 x$$ is obtained."
      ]
    },
    {
      "cell_type": "markdown",
      "id": "67H_uUsZ1__S",
      "metadata": {
        "id": "67H_uUsZ1__S",
        "pycharm": {
          "name": "#%% md\n"
        }
      },
      "source": [
        "### Plot Linear Regression Results"
      ]
    },
    {
      "cell_type": "markdown",
      "id": "-oD8H0qu1__S",
      "metadata": {
        "id": "-oD8H0qu1__S",
        "pycharm": {
          "name": "#%% md\n"
        }
      },
      "source": [
        "\n",
        "Use the `predict` method to calculate the model prediction for input x\n",
        "\n",
        "* Plot with your data"
      ]
    },
    {
      "cell_type": "code",
      "execution_count": null,
      "id": "7KQVyawN1__T",
      "metadata": {
        "id": "7KQVyawN1__T",
        "outputId": "2d1adb9f-3dcb-4cd5-8ac2-d69081bcdc7a",
        "pycharm": {
          "name": "#%%\n"
        },
        "colab": {
          "base_uri": "https://localhost:8080/",
          "height": 445
        }
      },
      "outputs": [
        {
          "output_type": "display_data",
          "data": {
            "text/plain": [
              "<Figure size 1080x504 with 1 Axes>"
            ],
            "image/png": "[encoded data removed]"
          },
          "metadata": {
            "needs_background": "light"
          }
        }
      ],
      "source": [
        "plt.figure(figsize = (15,7))\n",
        "plt.plot(x,y,label='S&P 500 Close') # original data\n",
        "\n",
        "y_hat = lin_reg.predict(X)\n",
        "plt.plot(x,y_hat,label='Linear Regression Line') # regression line\n",
        "\n",
        "plt.xlabel('Time')\n",
        "plt.ylabel('Closing Price')\n",
        "plt.legend();"
      ]
    },
    {
      "cell_type": "markdown",
      "id": "gB9WY5Bm1__T",
      "metadata": {
        "id": "gB9WY5Bm1__T",
        "pycharm": {
          "name": "#%% md\n"
        }
      },
      "source": [
        "### Linear Regression MSE"
      ]
    },
    {
      "cell_type": "markdown",
      "id": "x5mp4qPo1__T",
      "metadata": {
        "id": "x5mp4qPo1__T",
        "pycharm": {
          "name": "#%% md\n"
        }
      },
      "source": [
        "\n",
        "Calculate Mean Squared Error (MSE) of model using `mse_resid` method."
      ]
    },
    {
      "cell_type": "code",
      "execution_count": null,
      "id": "D34Ntm7N1__T",
      "metadata": {
        "id": "D34Ntm7N1__T",
        "outputId": "2dc0dc91-4dbd-47e4-b2ce-14a585070c87",
        "pycharm": {
          "name": "#%%\n"
        },
        "colab": {
          "base_uri": "https://localhost:8080/"
        }
      },
      "outputs": [
        {
          "output_type": "execute_result",
          "data": {
            "text/plain": [
              "63875.53915390119"
            ]
          },
          "metadata": {},
          "execution_count": 93
        }
      ],
      "source": [
        "# MSE\n",
        "lin_reg.mse_resid"
      ]
    },
    {
      "cell_type": "markdown",
      "id": "_70IOeQB1__T",
      "metadata": {
        "id": "_70IOeQB1__T",
        "pycharm": {
          "name": "#%% md\n"
        }
      },
      "source": [
        "## Residual Analysis"
      ]
    },
    {
      "cell_type": "markdown",
      "id": "Tgox6JHu1__T",
      "metadata": {
        "id": "Tgox6JHu1__T",
        "pycharm": {
          "name": "#%% md\n"
        }
      },
      "source": [
        "Follow this part to practice with your data."
      ]
    },
    {
      "cell_type": "markdown",
      "id": "9bt4mMVc1__T",
      "metadata": {
        "id": "9bt4mMVc1__T",
        "pycharm": {
          "name": "#%% md\n"
        }
      },
      "source": [
        "### Residual and Standardized Residual"
      ]
    },
    {
      "cell_type": "markdown",
      "id": "lh-_W5T21__T",
      "metadata": {
        "id": "lh-_W5T21__T",
        "pycharm": {
          "name": "#%% md\n"
        }
      },
      "source": [
        "$$\\text{Residual}=y_t - \\hat{y}_t$$"
      ]
    },
    {
      "cell_type": "markdown",
      "id": "C5bgonsE1__T",
      "metadata": {
        "id": "C5bgonsE1__T",
        "pycharm": {
          "name": "#%% md\n"
        }
      },
      "source": [
        "Calculate the residual using `lin_reg.resid` method."
      ]
    },
    {
      "cell_type": "code",
      "execution_count": null,
      "id": "2vgspRLb1__T",
      "metadata": {
        "id": "2vgspRLb1__T",
        "pycharm": {
          "name": "#%%\n"
        }
      },
      "outputs": [],
      "source": [
        "residual = lin_reg.resid"
      ]
    },
    {
      "cell_type": "markdown",
      "id": "VlhEcCJ21__T",
      "metadata": {
        "id": "VlhEcCJ21__T",
        "pycharm": {
          "name": "#%% md\n"
        }
      },
      "source": [
        "This residual is not standardized."
      ]
    },
    {
      "cell_type": "code",
      "execution_count": null,
      "id": "XN9jGe1o1__T",
      "metadata": {
        "id": "XN9jGe1o1__T",
        "outputId": "f1e226c4-e309-4f2c-e27e-69fb81144fd1",
        "pycharm": {
          "name": "#%%\n"
        },
        "colab": {
          "base_uri": "https://localhost:8080/"
        }
      },
      "outputs": [
        {
          "output_type": "execute_result",
          "data": {
            "text/plain": [
              "array([112.88948837, 113.94161829, 113.47374822, ..., 655.01143001,\n",
              "       671.45355993, 673.27568985])"
            ]
          },
          "metadata": {},
          "execution_count": 95
        }
      ],
      "source": [
        "residual"
      ]
    },
    {
      "cell_type": "markdown",
      "id": "4nEffWK81__T",
      "metadata": {
        "id": "4nEffWK81__T",
        "pycharm": {
          "name": "#%% md\n"
        }
      },
      "source": [
        "\n",
        "Use the below function to standardize residual."
      ]
    },
    {
      "cell_type": "code",
      "execution_count": null,
      "id": "zmrqXSA91__T",
      "metadata": {
        "id": "zmrqXSA91__T",
        "pycharm": {
          "name": "#%%\n"
        }
      },
      "outputs": [],
      "source": [
        "def standardized(array_like):\n",
        "    mean = array_like.mean()\n",
        "    std = array_like.std(ddof=1)\n",
        "    return pd.Series((array_like - mean) / std)"
      ]
    },
    {
      "cell_type": "markdown",
      "id": "0y9HPYGC1__T",
      "metadata": {
        "id": "0y9HPYGC1__T",
        "pycharm": {
          "name": "#%% md\n"
        }
      },
      "source": [
        "`s_residual`: Standardized Residual"
      ]
    },
    {
      "cell_type": "code",
      "execution_count": null,
      "id": "3791jwAV1__T",
      "metadata": {
        "id": "3791jwAV1__T",
        "pycharm": {
          "name": "#%%\n"
        }
      },
      "outputs": [],
      "source": [
        "s_residual = standardized(residual)"
      ]
    },
    {
      "cell_type": "markdown",
      "id": "0G8ib4oM1__U",
      "metadata": {
        "id": "0G8ib4oM1__U",
        "pycharm": {
          "name": "#%% md\n"
        }
      },
      "source": [
        "### Plot Standardized Residuals"
      ]
    },
    {
      "cell_type": "code",
      "execution_count": null,
      "id": "gEhh9UkO1__U",
      "metadata": {
        "id": "gEhh9UkO1__U",
        "outputId": "556ed1d2-5a8b-4d12-c00d-11b65d18456c",
        "pycharm": {
          "name": "#%%\n"
        },
        "colab": {
          "base_uri": "https://localhost:8080/",
          "height": 442
        }
      },
      "outputs": [
        {
          "output_type": "display_data",
          "data": {
            "text/plain": [
              "<Figure size 1080x504 with 1 Axes>"
            ],
            "image/png": "[encoded data removed]"
          },
          "metadata": {
            "needs_background": "light"
          }
        }
      ],
      "source": [
        "s_residual.plot(figsize = (15,7));\n",
        "plt.xlabel('Time')\n",
        "plt.ylabel('Standardized Residuals');"
      ]
    },
    {
      "cell_type": "markdown",
      "id": "VssSyoF_1__U",
      "metadata": {
        "id": "VssSyoF_1__U",
        "pycharm": {
          "name": "#%% md\n"
        }
      },
      "source": [
        "You can realize the fact that standardized residual is not seen as white noise."
      ]
    },
    {
      "cell_type": "markdown",
      "id": "3FrdNXTV1__U",
      "metadata": {
        "id": "3FrdNXTV1__U",
        "pycharm": {
          "name": "#%% md\n"
        }
      },
      "source": [
        "### Histogram of Standardized Residuals"
      ]
    },
    {
      "cell_type": "code",
      "execution_count": null,
      "id": "Sp1z0UWp1__U",
      "metadata": {
        "id": "Sp1z0UWp1__U",
        "outputId": "beb8c10d-4cfe-46dd-c2e7-4ee12ac61845",
        "pycharm": {
          "name": "#%%\n"
        },
        "colab": {
          "base_uri": "https://localhost:8080/",
          "height": 279
        }
      },
      "outputs": [
        {
          "output_type": "display_data",
          "data": {
            "text/plain": [
              "<Figure size 432x288 with 1 Axes>"
            ],
            "image/png": "[encoded data removed]"
          },
          "metadata": {
            "needs_background": "light"
          }
        }
      ],
      "source": [
        "s_residual.hist();\n",
        "plt.xlabel('Standardized Residuals')\n",
        "plt.ylabel('Frequency');"
      ]
    },
    {
      "cell_type": "markdown",
      "id": "hWpfHLQN1__U",
      "metadata": {
        "id": "hWpfHLQN1__U",
        "pycharm": {
          "name": "#%% md\n"
        }
      },
      "source": [
        "You can notice that the residual almost follow the normal distribution."
      ]
    },
    {
      "cell_type": "markdown",
      "id": "PXSvHMsl1__U",
      "metadata": {
        "id": "PXSvHMsl1__U",
        "pycharm": {
          "name": "#%% md\n"
        }
      },
      "source": [
        "### Q-Q Plot"
      ]
    },
    {
      "cell_type": "markdown",
      "id": "_PPN-ZgM1__U",
      "metadata": {
        "id": "_PPN-ZgM1__U",
        "pycharm": {
          "name": "#%% md\n"
        }
      },
      "source": [
        "There is another method to visualize normality, Q-Q plot.\n",
        "\n",
        "Plot with the scipy `probplot` function."
      ]
    },
    {
      "cell_type": "markdown",
      "id": "P0y_wSuy1__U",
      "metadata": {
        "id": "P0y_wSuy1__U",
        "pycharm": {
          "name": "#%% md\n"
        }
      },
      "source": [
        "If you put the normal distribution in the dist as shown below, and if the dots are distributed along the red line, it means that the residual is close to the normal distribution.\n",
        "\n",
        "In this example, it approximately follows the normal distribution."
      ]
    },
    {
      "cell_type": "code",
      "execution_count": null,
      "id": "PTmcY2FH1__W",
      "metadata": {
        "id": "PTmcY2FH1__W",
        "outputId": "881bed13-21d5-4766-cb5c-100269ce8577",
        "pycharm": {
          "name": "#%%\n"
        },
        "colab": {
          "base_uri": "https://localhost:8080/",
          "height": 295
        }
      },
      "outputs": [
        {
          "output_type": "display_data",
          "data": {
            "text/plain": [
              "<Figure size 432x288 with 1 Axes>"
            ],
            "image/png": "[encoded data removed]"
          },
          "metadata": {
            "needs_background": "light"
          }
        }
      ],
      "source": [
        "stats.probplot(s_residual, dist=stats.norm, plot=plt);"
      ]
    },
    {
      "cell_type": "markdown",
      "id": "3gad-gQd1__X",
      "metadata": {
        "id": "3gad-gQd1__X",
        "pycharm": {
          "name": "#%% md\n"
        }
      },
      "source": [
        "### Autocorrelation function (Correlogram)"
      ]
    },
    {
      "cell_type": "markdown",
      "id": "-ukmoptc1__X",
      "metadata": {
        "id": "-ukmoptc1__X",
        "pycharm": {
          "name": "#%% md\n"
        }
      },
      "source": [
        "\n",
        "Plot the Correlogram(in Lecture note #3, p.36) using `plot_acf` in statsmodels."
      ]
    },
    {
      "cell_type": "markdown",
      "id": "Sv2Z7x151__X",
      "metadata": {
        "id": "Sv2Z7x151__X",
        "pycharm": {
          "name": "#%% md\n"
        }
      },
      "source": [
        "Input the residual and put the number of lags you want check."
      ]
    },
    {
      "cell_type": "code",
      "execution_count": null,
      "id": "d2d74Sjd1__X",
      "metadata": {
        "id": "d2d74Sjd1__X",
        "outputId": "88a344e9-09c3-4187-9aa7-9b0405d133df",
        "pycharm": {
          "name": "#%%\n"
        },
        "colab": {
          "base_uri": "https://localhost:8080/",
          "height": 281
        }
      },
      "outputs": [
        {
          "output_type": "display_data",
          "data": {
            "text/plain": [
              "<Figure size 432x288 with 1 Axes>"
            ],
            "image/png": "[encoded data removed]"
          },
          "metadata": {
            "needs_background": "light"
          }
        }
      ],
      "source": [
        "sm.graphics.tsa.plot_acf(residual, lags=50);"
      ]
    },
    {
      "cell_type": "markdown",
      "id": "5PaLWHQu1__X",
      "metadata": {
        "id": "5PaLWHQu1__X",
        "pycharm": {
          "name": "#%% md\n"
        }
      },
      "source": [
        "In this example, all values are out of range of standard errors, so the residual is not seen as white noise."
      ]
    },
    {
      "cell_type": "markdown",
      "id": "eaTUWVuB1__X",
      "metadata": {
        "id": "eaTUWVuB1__X",
        "pycharm": {
          "name": "#%% md\n"
        }
      },
      "source": [
        "## Quadratic Trends Regression"
      ]
    },
    {
      "cell_type": "markdown",
      "id": "1X20e07w1__X",
      "metadata": {
        "id": "1X20e07w1__X",
        "pycharm": {
          "name": "#%% md\n"
        }
      },
      "source": [
        "\n",
        "Running Quadratic Trends Regression is not quite different with the linear regression method."
      ]
    },
    {
      "cell_type": "markdown",
      "id": "i3--IzsN1__X",
      "metadata": {
        "id": "i3--IzsN1__X",
        "pycharm": {
          "name": "#%% md\n"
        }
      },
      "source": [
        "$$y=w_0+w_1x+w_2 x^2  =\\begin{bmatrix}\n",
        "w_0 & w_1 & w_2\n",
        "\\end{bmatrix}   \\begin{bmatrix}\n",
        "1\\\\\n",
        "x\\\\\n",
        "x^2\n",
        "\\end{bmatrix} = \\mathbf{w}\\mathbf{x}$$\n",
        "\n"
      ]
    },
    {
      "cell_type": "markdown",
      "id": "lk-9X6m71__X",
      "metadata": {
        "id": "lk-9X6m71__X",
        "pycharm": {
          "name": "#%% md\n"
        }
      },
      "source": [
        "\n",
        "Set $\\mathbf{w}$, $\\mathbf{x}$ as shown above, and get the optimal parameter using OLS.\n",
        "\n",
        "*  The reason why it is linear here is that the degree of $w$ is 1, regardless of degree of $w$.\n",
        "\n"
      ]
    },
    {
      "cell_type": "markdown",
      "id": "Apwqz9FZ1__X",
      "metadata": {
        "id": "Apwqz9FZ1__X",
        "pycharm": {
          "name": "#%% md\n"
        }
      },
      "source": [
        "Generate $\\mathbf{x}$ using `PolynomialFeatures` and `fit_transform` method.\n",
        "\n",
        "* It assumes that there is a Quadratic Trends, so degree is 2.\n",
        "* Because of the bias term ($w_0$), set include_bias=True.\n",
        "* Reshape about input x in `fit_transform`."
      ]
    },
    {
      "cell_type": "code",
      "execution_count": null,
      "id": "T7MGUaE91__X",
      "metadata": {
        "id": "T7MGUaE91__X",
        "pycharm": {
          "name": "#%%\n"
        }
      },
      "outputs": [],
      "source": [
        "poly_features = PolynomialFeatures(degree=2, include_bias=True)"
      ]
    },
    {
      "cell_type": "code",
      "execution_count": null,
      "id": "FvynptBz1__X",
      "metadata": {
        "id": "FvynptBz1__X",
        "pycharm": {
          "name": "#%%\n"
        }
      },
      "outputs": [],
      "source": [
        "X = poly_features.fit_transform(x.reshape(-1,1)) # need to reshape x here"
      ]
    },
    {
      "cell_type": "code",
      "execution_count": null,
      "id": "42M2If0I1__X",
      "metadata": {
        "id": "42M2If0I1__X",
        "outputId": "2e17482a-4ad1-433a-b1db-74191d66a985",
        "pycharm": {
          "name": "#%%\n"
        },
        "colab": {
          "base_uri": "https://localhost:8080/"
        }
      },
      "outputs": [
        {
          "output_type": "execute_result",
          "data": {
            "text/plain": [
              "(8192, 3)"
            ]
          },
          "metadata": {},
          "execution_count": 104
        }
      ],
      "source": [
        "X.shape # (N, 3)"
      ]
    },
    {
      "cell_type": "markdown",
      "id": "fHHz9gSD1__X",
      "metadata": {
        "id": "fHHz9gSD1__X",
        "pycharm": {
          "name": "#%% md\n"
        }
      },
      "source": [
        "### Fitting Quadratic Trends Regression"
      ]
    },
    {
      "cell_type": "code",
      "execution_count": null,
      "id": "vkwSct5v1__X",
      "metadata": {
        "id": "vkwSct5v1__X",
        "outputId": "79c8a24c-4009-4475-ce0d-01cc38f73109",
        "pycharm": {
          "name": "#%%\n"
        },
        "colab": {
          "base_uri": "https://localhost:8080/"
        }
      },
      "outputs": [
        {
          "output_type": "stream",
          "name": "stdout",
          "text": [
            "                            OLS Regression Results                            \n",
            "==============================================================================\n",
            "Dep. Variable:                      y   R-squared:                       0.843\n",
            "Model:                            OLS   Adj. R-squared:                  0.843\n",
            "Method:                 Least Squares   F-statistic:                 2.200e+04\n",
            "Date:                Sun, 25 Sep 2022   Prob (F-statistic):               0.00\n",
            "Time:                        12:38:18   Log-Likelihood:                -56666.\n",
            "No. Observations:                8192   AIC:                         1.133e+05\n",
            "Df Residuals:                    8189   BIC:                         1.134e+05\n",
            "Df Model:                           2                                         \n",
            "Covariance Type:            nonrobust                                         \n",
            "==============================================================================\n",
            "                 coef    std err          t      P>|t|      [0.025      0.975]\n",
            "------------------------------------------------------------------------------\n",
            "const        241.3529      8.096     29.810      0.000     225.482     257.224\n",
            "x1             0.1319      0.005     28.891      0.000       0.123       0.141\n",
            "x2          1.294e-05    5.4e-07     23.973      0.000    1.19e-05     1.4e-05\n",
            "==============================================================================\n",
            "Omnibus:                      121.496   Durbin-Watson:                   0.003\n",
            "Prob(Omnibus):                  0.000   Jarque-Bera (JB):              164.511\n",
            "Skew:                           0.196   Prob(JB):                     1.89e-36\n",
            "Kurtosis:                       3.573   Cond. No.                     9.00e+07\n",
            "==============================================================================\n",
            "\n",
            "Notes:\n",
            "[1] Standard Errors assume that the covariance matrix of the errors is correctly specified.\n",
            "[2] The condition number is large,  9e+07. This might indicate that there are\n",
            "strong multicollinearity or other numerical problems.\n"
          ]
        }
      ],
      "source": [
        "# Regression\n",
        "quad_reg = sm.OLS(y, X).fit()\n",
        "print(quad_reg.summary())"
      ]
    },
    {
      "cell_type": "code",
      "source": [
        "quad_reg.params"
      ],
      "metadata": {
        "colab": {
          "base_uri": "https://localhost:8080/"
        },
        "id": "03XbINzirAkA",
        "outputId": "c07d6082-ae31-471b-f507-10bb993e832f"
      },
      "id": "03XbINzirAkA",
      "execution_count": null,
      "outputs": [
        {
          "output_type": "execute_result",
          "data": {
            "text/plain": [
              "array([2.41352869e+02, 1.31897654e-01, 1.29376661e-05])"
            ]
          },
          "metadata": {},
          "execution_count": 117
        }
      ]
    },
    {
      "cell_type": "code",
      "execution_count": null,
      "id": "AQv2IoOA1__X",
      "metadata": {
        "id": "AQv2IoOA1__X",
        "pycharm": {
          "name": "#%%\n"
        }
      },
      "outputs": [],
      "source": [
        "# get predicted value\n",
        "y_hat = quad_reg.predict(X)"
      ]
    },
    {
      "cell_type": "code",
      "execution_count": null,
      "id": "4BNGQDOD1__X",
      "metadata": {
        "id": "4BNGQDOD1__X",
        "outputId": "1efcbc37-ded6-45c2-c728-34e9504eeee4",
        "pycharm": {
          "name": "#%%\n"
        },
        "colab": {
          "base_uri": "https://localhost:8080/",
          "height": 446
        }
      },
      "outputs": [
        {
          "output_type": "display_data",
          "data": {
            "text/plain": [
              "<Figure size 1080x504 with 1 Axes>"
            ],
            "image/png": "[encoded data removed]"
          },
          "metadata": {
            "needs_background": "light"
          }
        }
      ],
      "source": [
        "plt.figure(figsize = (15,7))\n",
        "plt.plot(x,y,label='S&P 500 Close') # original data\n",
        "\n",
        "y_hat = quad_reg.predict(X)\n",
        "plt.plot(x,y_hat,label='Quadratic Trends Regression Line') # regression line\n",
        "\n",
        "plt.xlabel('Time')\n",
        "plt.ylabel('Closing Price')\n",
        "plt.legend();"
      ]
    },
    {
      "cell_type": "markdown",
      "id": "Uqi33drg1__Y",
      "metadata": {
        "id": "Uqi33drg1__Y",
        "pycharm": {
          "name": "#%% md\n"
        }
      },
      "source": [
        "### Quadratic Trends Regression MSE"
      ]
    },
    {
      "cell_type": "code",
      "execution_count": null,
      "id": "DSPTyWMh1__Y",
      "metadata": {
        "id": "DSPTyWMh1__Y",
        "outputId": "f29a6fb8-3313-4e59-88d9-74bb8b09dfd0",
        "pycharm": {
          "name": "#%%\n"
        },
        "colab": {
          "base_uri": "https://localhost:8080/"
        }
      },
      "outputs": [
        {
          "output_type": "execute_result",
          "data": {
            "text/plain": [
              "63875.53915390119"
            ]
          },
          "metadata": {},
          "execution_count": 108
        }
      ],
      "source": [
        "lin_reg.mse_resid #Linear Regression MSE"
      ]
    },
    {
      "cell_type": "code",
      "execution_count": null,
      "id": "ZiRObZbq1__Y",
      "metadata": {
        "id": "ZiRObZbq1__Y",
        "outputId": "c5ccbd3a-ae8f-4a57-eff6-32382137aba2",
        "pycharm": {
          "name": "#%%\n"
        },
        "colab": {
          "base_uri": "https://localhost:8080/"
        }
      },
      "outputs": [
        {
          "output_type": "execute_result",
          "data": {
            "text/plain": [
              "59693.87798977161"
            ]
          },
          "metadata": {},
          "execution_count": 109
        }
      ],
      "source": [
        "quad_reg.mse_resid"
      ]
    },
    {
      "cell_type": "markdown",
      "id": "jZwVO4cv1__Y",
      "metadata": {
        "id": "jZwVO4cv1__Y",
        "pycharm": {
          "name": "#%% md\n"
        }
      },
      "source": [
        "## Other Curve Fitting"
      ]
    },
    {
      "cell_type": "markdown",
      "id": "CqPkqFQ31__Y",
      "metadata": {
        "id": "CqPkqFQ31__Y",
        "pycharm": {
          "name": "#%% md\n"
        }
      },
      "source": [
        "You can freely fit regression by adding trigonometric functions or other trends to match your data as shown below."
      ]
    },
    {
      "cell_type": "markdown",
      "id": "PgS-FW291__Y",
      "metadata": {
        "id": "PgS-FW291__Y",
        "pycharm": {
          "name": "#%% md\n"
        }
      },
      "source": [
        "$$y=w_0+w_1x+w_2 \\text{sin}(2 \\pi fx) + w_3 \\text{cos}(2 \\pi fx)$$\n",
        "\n",
        "\n",
        "$$y=\\begin{bmatrix}\n",
        "w_0 & w_1 & w_2 & w_3 \\end{bmatrix}\\begin{bmatrix}\n",
        "1\\\\\n",
        "x\\\\\n",
        "\\text{sin}(2 \\pi fx)\\\\\n",
        "\\text{cos}(2 \\pi fx)\n",
        "\\end{bmatrix} = \\mathbf{w}\\mathbf{x}$$\n",
        "\n"
      ]
    },
    {
      "cell_type": "markdown",
      "id": "HK0zX3GW1__Y",
      "metadata": {
        "id": "HK0zX3GW1__Y",
        "pycharm": {
          "name": "#%% md\n"
        }
      },
      "source": [
        "\n",
        "For example, in the case of model which contains linear, sine and cosine trends, set x as shown below.\n",
        "\n",
        "* f, which is related to frequency in sine and cosine trends, should be set in advance. \n",
        "* In this example, f = $\\frac{0.001}{2 \\pi}$\n",
        "\n",
        "* Find the f value that fits your data for regression."
      ]
    },
    {
      "cell_type": "markdown",
      "id": "T10g9QN61__Y",
      "metadata": {
        "id": "T10g9QN61__Y",
        "pycharm": {
          "name": "#%% md\n"
        }
      },
      "source": [
        "\n",
        "Generate  $\\mathbf{x}$ using `np.columns_stack` ."
      ]
    },
    {
      "cell_type": "code",
      "execution_count": null,
      "id": "k1f4sJGS1__Y",
      "metadata": {
        "id": "k1f4sJGS1__Y",
        "outputId": "3ff9a398-6020-4d36-c2e6-bb4d065e813d",
        "pycharm": {
          "name": "#%%\n"
        },
        "colab": {
          "base_uri": "https://localhost:8080/"
        }
      },
      "outputs": [
        {
          "output_type": "execute_result",
          "data": {
            "text/plain": [
              "0.00015915494309189535"
            ]
          },
          "metadata": {},
          "execution_count": 110
        }
      ],
      "source": [
        "f = 0.001 / (2*np.pi)\n",
        "f"
      ]
    },
    {
      "cell_type": "code",
      "execution_count": null,
      "id": "TRVBPeVy1__Y",
      "metadata": {
        "id": "TRVBPeVy1__Y",
        "pycharm": {
          "name": "#%%\n"
        }
      },
      "outputs": [],
      "source": [
        "X = np.column_stack((np.ones(len(x)), x,\n",
        "                     np.sin(2* np.pi * f*x), np.cos(2* np.pi * f*x)))"
      ]
    },
    {
      "cell_type": "code",
      "execution_count": null,
      "id": "awr3XnMZ1__Y",
      "metadata": {
        "id": "awr3XnMZ1__Y",
        "outputId": "bc612b64-1a8d-4acd-add3-1e7a4cec1d92",
        "pycharm": {
          "name": "#%%\n"
        },
        "colab": {
          "base_uri": "https://localhost:8080/"
        }
      },
      "outputs": [
        {
          "output_type": "execute_result",
          "data": {
            "text/plain": [
              "(8192, 4)"
            ]
          },
          "metadata": {},
          "execution_count": 112
        }
      ],
      "source": [
        "X.shape # (N, 4)"
      ]
    },
    {
      "cell_type": "markdown",
      "id": "GEOL_7NS1__Y",
      "metadata": {
        "id": "GEOL_7NS1__Y",
        "pycharm": {
          "name": "#%% md\n"
        }
      },
      "source": [
        "### Fitting Curve Regression"
      ]
    },
    {
      "cell_type": "code",
      "execution_count": null,
      "id": "mDML6SEn1__Z",
      "metadata": {
        "id": "mDML6SEn1__Z",
        "outputId": "b573766f-5ed6-40ed-a5e0-2754d5e7df2c",
        "pycharm": {
          "name": "#%%\n"
        },
        "colab": {
          "base_uri": "https://localhost:8080/"
        }
      },
      "outputs": [
        {
          "output_type": "stream",
          "name": "stdout",
          "text": [
            "                            OLS Regression Results                            \n",
            "==============================================================================\n",
            "Dep. Variable:                      y   R-squared:                       0.872\n",
            "Model:                            OLS   Adj. R-squared:                  0.871\n",
            "Method:                 Least Squares   F-statistic:                 1.852e+04\n",
            "Date:                Sun, 25 Sep 2022   Prob (F-statistic):               0.00\n",
            "Time:                        12:40:53   Log-Likelihood:                -55847.\n",
            "No. Observations:                8192   AIC:                         1.117e+05\n",
            "Df Residuals:                    8188   BIC:                         1.117e+05\n",
            "Df Model:                           3                                         \n",
            "Covariance Type:            nonrobust                                         \n",
            "==============================================================================\n",
            "                 coef    std err          t      P>|t|      [0.025      0.975]\n",
            "------------------------------------------------------------------------------\n",
            "const         54.2389      5.042     10.758      0.000      44.356      64.122\n",
            "x1             0.2503      0.001    235.212      0.000       0.248       0.252\n",
            "x2            71.4293      3.529     20.239      0.000      64.511      78.348\n",
            "x3          -174.5523      3.658    -47.719      0.000    -181.723    -167.382\n",
            "==============================================================================\n",
            "Omnibus:                      343.856   Durbin-Watson:                   0.003\n",
            "Prob(Omnibus):                  0.000   Jarque-Bera (JB):              149.360\n",
            "Skew:                           0.061   Prob(JB):                     3.69e-33\n",
            "Kurtosis:                       2.350   Cond. No.                     1.01e+04\n",
            "==============================================================================\n",
            "\n",
            "Notes:\n",
            "[1] Standard Errors assume that the covariance matrix of the errors is correctly specified.\n",
            "[2] The condition number is large, 1.01e+04. This might indicate that there are\n",
            "strong multicollinearity or other numerical problems.\n"
          ]
        }
      ],
      "source": [
        "curve_reg = sm.OLS(y, X).fit()\n",
        "print(curve_reg.summary())"
      ]
    },
    {
      "cell_type": "code",
      "execution_count": null,
      "id": "yo6VuoM81__Z",
      "metadata": {
        "id": "yo6VuoM81__Z",
        "outputId": "9d5ef2d5-8b24-4d2b-c1f5-643d996c3504",
        "pycharm": {
          "name": "#%%\n"
        },
        "colab": {
          "base_uri": "https://localhost:8080/"
        }
      },
      "outputs": [
        {
          "output_type": "stream",
          "name": "stdout",
          "text": [
            "Parameters:  [  54.2389222     0.25031567   71.4292681  -174.55228601]\n"
          ]
        }
      ],
      "source": [
        "print(\"Parameters: \", curve_reg.params) # parameter w"
      ]
    },
    {
      "cell_type": "code",
      "execution_count": null,
      "id": "jq2um65X1__Z",
      "metadata": {
        "id": "jq2um65X1__Z",
        "outputId": "b00a0912-f875-43e7-acf6-956650931042",
        "pycharm": {
          "name": "#%%\n"
        },
        "colab": {
          "base_uri": "https://localhost:8080/",
          "height": 444
        }
      },
      "outputs": [
        {
          "output_type": "display_data",
          "data": {
            "text/plain": [
              "<Figure size 1080x504 with 1 Axes>"
            ],
            "image/png": "[encoded data removed]"
          },
          "metadata": {
            "needs_background": "light"
          }
        }
      ],
      "source": [
        "plt.figure(figsize = (15,7))\n",
        "plt.plot(x,y,label='S&P 500 Close') # original data\n",
        "\n",
        "y_hat = curve_reg.predict(X)\n",
        "plt.plot(x,y_hat,label='Curved Regression Line') # regression line\n",
        "\n",
        "plt.xlabel('Time')\n",
        "plt.ylabel('Closing Price')\n",
        "plt.legend();"
      ]
    },
    {
      "cell_type": "markdown",
      "id": "mcyW-h3u1__Z",
      "metadata": {
        "id": "mcyW-h3u1__Z",
        "pycharm": {
          "name": "#%% md\n"
        }
      },
      "source": [
        "### Quadratic Trends Regression MSE"
      ]
    },
    {
      "cell_type": "code",
      "execution_count": null,
      "id": "_sGPNK771__Z",
      "metadata": {
        "id": "_sGPNK771__Z",
        "outputId": "cbd62154-e582-414b-a714-549a9e2e6a3e",
        "pycharm": {
          "name": "#%%\n"
        },
        "colab": {
          "base_uri": "https://localhost:8080/"
        }
      },
      "outputs": [
        {
          "output_type": "execute_result",
          "data": {
            "text/plain": [
              "63875.53915390119"
            ]
          },
          "metadata": {},
          "execution_count": 57
        }
      ],
      "source": [
        "lin_reg.mse_resid #LInear Regression MSE"
      ]
    },
    {
      "cell_type": "code",
      "execution_count": null,
      "id": "pOWh_iL61__Z",
      "metadata": {
        "id": "pOWh_iL61__Z",
        "outputId": "9ac7d663-3a56-46bb-bba1-e0362c8ca1d2",
        "pycharm": {
          "name": "#%%\n"
        },
        "colab": {
          "base_uri": "https://localhost:8080/"
        }
      },
      "outputs": [
        {
          "output_type": "execute_result",
          "data": {
            "text/plain": [
              "59693.87798977161"
            ]
          },
          "metadata": {},
          "execution_count": 58
        }
      ],
      "source": [
        "quad_reg.mse_resid #Quadratic Trends Regression"
      ]
    },
    {
      "cell_type": "code",
      "execution_count": null,
      "id": "0cM7QKuA1__Z",
      "metadata": {
        "id": "0cM7QKuA1__Z",
        "outputId": "412e8f56-d993-4667-dd1e-a42d928ef35f",
        "pycharm": {
          "name": "#%%\n"
        },
        "colab": {
          "base_uri": "https://localhost:8080/"
        }
      },
      "outputs": [
        {
          "output_type": "execute_result",
          "data": {
            "text/plain": [
              "48875.205502082936"
            ]
          },
          "metadata": {},
          "execution_count": 59
        }
      ],
      "source": [
        "curve_reg.mse_resid"
      ]
    }
  ],
  "metadata": {
    "colab": {
      "collapsed_sections": [],
      "provenance": []
    },
    "kernelspec": {
      "display_name": "Python 3 (ipykernel)",
      "language": "python",
      "name": "python3"
    },
    "language_info": {
      "codemirror_mode": {
        "name": "ipython",
        "version": 3
      },
      "file_extension": ".py",
      "mimetype": "text/x-python",
      "name": "python",
      "nbconvert_exporter": "python",
      "pygments_lexer": "ipython3",
      "version": "3.9.12"
    },
    "toc": {
      "base_numbering": 1,
      "nav_menu": {},
      "number_sections": true,
      "sideBar": true,
      "skip_h1_title": true,
      "title_cell": "Table of Contents",
      "title_sidebar": "Contents",
      "toc_cell": true,
      "toc_position": {},
      "toc_section_display": true,
      "toc_window_display": true
    }
  },
  "nbformat": 4,
  "nbformat_minor": 5
}